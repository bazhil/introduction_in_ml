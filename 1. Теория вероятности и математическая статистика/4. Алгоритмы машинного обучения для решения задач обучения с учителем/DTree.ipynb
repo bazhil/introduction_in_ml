{
 "cells": [
  {
   "cell_type": "markdown",
   "id": "4df827f0",
   "metadata": {},
   "source": [
    "# Decision Tree (Дерево решений)\n",
    "\n",
    "Рассмотрим на примере конкретной задачи.\n",
    "\n",
    "**Выиграет ли `Зенит` свой следующий матч?**\n",
    "**Параметры**:\n",
    "* Выше ли находится соперник по турнирной таблице\n",
    "* Дома ли играется матч\n",
    "* Пропускает ли матч кто-то из лидеров команды\n",
    "* Наличие дождя\n",
    "\n",
    "Есть информация об исходах нескольких матчей и планируется создать модель, предсказывающую исход следующего матча, параметры которого ещё не встречались.\n",
    "\n",
    "Что из себя представляет задача?\n",
    "* Классификация данных\n",
    "* Аппроксимация заданной функции\n",
    "\n",
    "Имеется *частично* заданная функция $f$ и хотим понять как она работает на ещё не известных параметрах\n",
    "\n",
    "На дереве решений есть метки:\n",
    "* В узлах, не являющихся листьями: атрибуты, по которым случаи различаются\n",
    "* В листьях: значения целевой функции\n",
    "* На ребрах: значения атрибута, из которого исходит ребро\n",
    "\n",
    "Для классификации нового случая, необходимо спуститься по дереву с учетом критериев разделения до листа и выдать соответствующее значение.\n",
    "\n",
    "**Исходная Таблица**\n",
    "Как играет \"Зенит\"\n",
    "\n",
    "|Соперник|Играем|Лидеры|Дождь|Победа|\n",
    "|---|---|---|---|---|\n",
    "|Выше|Дома|На месте|Да|Нет|\n",
    "|Выше|Дома|На месте|Нет|Да|\n",
    "|Выше|Дома|Пропускают|Нет|Да|\n",
    "|Ниже|Дома|Пропускают|Нет|Да|\n",
    "|Ниже|В гостях|Пропускают|Нет|Нет|\n",
    "|Ниже|Дома|Пропускают|Да|Да|\n",
    "|Выше|В гостях|На месте|Да|Нет|\n",
    "|Ниже|В гостях|На месте|Нет|?|\n",
    "\n",
    "\n",
    "\n",
    "**Как использовать**:\n",
    "Соперник = Ниже\n",
    "Играем = В гостях\n",
    "Лидеры = На месте\n",
    "Дождь = Нет\n",
    "Победа = ?\n",
    "\n",
    "Спускаемся по дереву, переходя по нужным ребрам и получаем, что этот матч \"Зенит\" должен проиграть.\n",
    "\n",
    "Для создания модели `Дерево решений` используем `DecisionTreeClassifier` из библиотеки `sklearn`. У объекта этого класса есть следующие атрибуты: \n",
    "    <p><b>class_weight</b> - веса классов. Если не указано, значит классы должны иметь один вес;</p>\n",
    "    <p><b>criterion</b> - функция для измерения качества разбиения;</p>\n",
    "    <p><b>max_depth</b> - максимальная глубина дерева;</p>\n",
    "    <p><b>max_leaf_nodes</b> - количество листовых узлов. Если None, значит число не ограничено;</p>\n",
    "    <p><b>min_impurity_decrease</b> - узел разбивается, если это разбиение уменьшает ошибку, большую или равную этому значению;</p>\n",
    "    <p><b>min_impurity_split</b> - порог для ранней остановки увеличения дерева;</p>\n",
    "    <p><b>min_samples_leaf</b> - минимальное количество элементов выборки, которые должны быть у листового узла;<p>\n",
    "    <p><b>min_samples_split</b> - минимальное количество выборок, необходимых для разделения внутреннего узла;</p>\n",
    "    <p><b>min_weight_fraction_leaf</b> - какая минимальная взвешенная доля суммарного веса должна быть у листового узла;</p>\n",
    "    <p><b>presort</b> - сортировать ли предварительно данные для ускорения поиска лучших разбиений при подгонке;</p>\n",
    "    <p><b>random_state</b> - генератор случайных чисел;</p>\n",
    "    <p><b>splitter</b> - выбор разбиения на каждом узле.</p>\n",
    "\n",
    "### Датасет\n",
    "Рассматривать задачу будем на примере известного датасета **Цветки Ириса**\n",
    "\n",
    "Датасет [Цветки Ириса](https://archive.ics.uci.edu/ml/datasets/iris) содержит 150 записей, каждая из записей содержит 4 признака, т.е. $\\boldsymbol x \\in \\mathbb{R}^4$. \n",
    "\n",
    "Что за 4 признака?\n",
    "\n",
    "0. длина чашелистника, см\n",
    "1. ширина чашелистника, см\n",
    "2. длина лепестка, см \n",
    "3. ширина лепестка, см \n",
    "\n",
    "Т.к. мы говорим про задачу классификации, то какой же физический смысл у классов?\n",
    "\n",
    "0. Iris Setosa\n",
    "1. Iris Versicolour \n",
    "2. Iris Virginica\n"
   ]
  },
  {
   "cell_type": "markdown",
   "id": "859e6354",
   "metadata": {},
   "source": [
    "## 0. Импорт библиотек"
   ]
  },
  {
   "cell_type": "code",
   "execution_count": 1,
   "id": "9ec6b445",
   "metadata": {},
   "outputs": [],
   "source": [
    "import numpy as np\n",
    "import pandas as pd\n",
    "\n",
    "import seaborn as sns\n",
    "import matplotlib.pyplot as plt\n",
    "\n",
    "from sklearn.metrics import confusion_matrix, accuracy_score\n",
    "from sklearn.model_selection import cross_val_score\n",
    "from sklearn.tree import DecisionTreeClassifier\n",
    "from sklearn import tree\n",
    "from sklearn import datasets\n",
    "from sklearn.model_selection import train_test_split\n",
    "from sklearn.metrics import classification_report\n",
    "\n",
    "from sklearn.linear_model import LogisticRegression\n",
    "from sklearn.svm import SVC, LinearSVC\n",
    "from sklearn.ensemble import RandomForestClassifier\n",
    "from sklearn.model_selection import train_test_split\n",
    "from sklearn.metrics import accuracy_score, confusion_matrix\n",
    "import pickle\n",
    "\n",
    "from sklearn.model_selection import GridSearchCV"
   ]
  },
  {
   "cell_type": "markdown",
   "id": "3e9c7d58",
   "metadata": {},
   "source": [
    "## 1. Загружаем данные по цветкам ирисов\n",
    "\n",
    "Для этого воспользуемся встроенным в библиотеке scikit-learn модулем datasets"
   ]
  },
  {
   "cell_type": "code",
   "execution_count": null,
   "id": "b976bb9d",
   "metadata": {},
   "outputs": [],
   "source": [
    "iris = datasets.load_iris()"
   ]
  },
  {
   "cell_type": "code",
   "execution_count": null,
   "id": "d1d3a052",
   "metadata": {
    "scrolled": true
   },
   "outputs": [],
   "source": [
    "# Информация по признакам\n",
    "iris.data"
   ]
  },
  {
   "cell_type": "code",
   "execution_count": null,
   "id": "432400a0",
   "metadata": {},
   "outputs": [],
   "source": [
    "# Информация по целевой переменной (классам цветка)\n",
    "iris.target"
   ]
  },
  {
   "cell_type": "code",
   "execution_count": null,
   "id": "577f7148",
   "metadata": {},
   "outputs": [],
   "source": [
    "# Выведем информацию по размерности датасета и целевой переменной\n",
    "# чтобы убедиться, что размерности совпадают\n",
    "print('Размерность признакового пространства {}'.format(iris.data.shape))\n",
    "print('Размерность вектора целевой переменной {}'.format(iris.target.shape))"
   ]
  },
  {
   "cell_type": "code",
   "execution_count": null,
   "id": "be59d542",
   "metadata": {},
   "outputs": [],
   "source": [
    "# Вынесем признаки и целевую перемнную в отдельные переменные\n",
    "X = iris.data[:, :4] \n",
    "y = iris.target\n",
    "\n",
    "X_train, X_test, y_train, y_test = train_test_split(X, y, test_size = 0.3, random_state = 42)"
   ]
  },
  {
   "cell_type": "markdown",
   "id": "5855e8fe",
   "metadata": {},
   "source": [
    "## 2. Визуально изобразим данные"
   ]
  },
  {
   "cell_type": "code",
   "execution_count": null,
   "id": "6c6aa118",
   "metadata": {},
   "outputs": [],
   "source": [
    "from matplotlib.colors import ListedColormap\n",
    "cmap_bold = ListedColormap(['#FF0000',  '#00FF00', '#0000FF'])\n",
    "\n",
    "K = 3\n",
    "x = X[-1]\n",
    "\n",
    "fig, ax = plt.subplots(figsize=(7,7))\n",
    "for i, iris_class in enumerate(['Setosa', 'Versicolour', 'Virginica']):\n",
    "    idx = y==i\n",
    "    ax.scatter(X[idx,0], X[idx,2], \n",
    "               c=cmap_bold.colors[i], edgecolor='k', \n",
    "               s=20, label=iris_class);\n",
    "\n",
    "ax.set(xlabel='длина чашелистика, см', ylabel='длина лепестка, см')\n",
    "ax.legend();"
   ]
  },
  {
   "cell_type": "markdown",
   "id": "770153cc",
   "metadata": {},
   "source": [
    "## 3. Обучим модели дерево решений\n",
    "\n",
    "### 3.1. Дерево решений с критерием \"Индекс Джини\""
   ]
  },
  {
   "cell_type": "code",
   "execution_count": null,
   "id": "0e17f6e3",
   "metadata": {},
   "outputs": [],
   "source": [
    "# Создадим объект Decision Tree\n",
    "clf_gini = DecisionTreeClassifier(criterion='gini', max_depth=2, random_state=0)\n",
    "\n",
    "# Обучение модели\n",
    "clf_gini.fit(X_train, y_train)\n",
    "\n",
    "# Прогноз на тестовых данных\n",
    "y_pred_gini = clf_gini.predict(X_test)"
   ]
  },
  {
   "cell_type": "code",
   "execution_count": null,
   "id": "d489bd4e",
   "metadata": {},
   "outputs": [],
   "source": [
    "# точность модели на тестовых данных\n",
    "accuracy = accuracy_score(y_test, y_pred_gini)*100\n",
    "print('Точность модели на тестовой выборке: ' + str(round(accuracy, 2)) + ' %.')"
   ]
  },
  {
   "cell_type": "code",
   "execution_count": null,
   "id": "82f72745",
   "metadata": {},
   "outputs": [],
   "source": [
    "# посмотрим на метрики на обучающей выборке\n",
    "y_pred_train_gini = clf_gini.predict(X_train)\n",
    "\n",
    "accuracy = accuracy_score(y_train, y_pred_train_gini)*100\n",
    "print('Точность модели на обучающей выборке: ' + str(round(accuracy, 2)) + ' %.')"
   ]
  },
  {
   "cell_type": "markdown",
   "id": "c707c63a",
   "metadata": {},
   "source": [
    "### Визуализируем полученное дерево решений"
   ]
  },
  {
   "cell_type": "code",
   "execution_count": null,
   "id": "fc1c7105",
   "metadata": {},
   "outputs": [],
   "source": [
    "plt.figure(figsize=(12,8))\n",
    "\n",
    "tree.plot_tree(clf_gini.fit(X_train, y_train)) "
   ]
  },
  {
   "cell_type": "markdown",
   "id": "5390b036",
   "metadata": {},
   "source": [
    "А теперь давайте визуализируем границы классов. Для этого выберем первые 2 признака для обучения модели и покажем как выглядят границы принятия решения."
   ]
  },
  {
   "cell_type": "code",
   "execution_count": null,
   "id": "f7877bcd",
   "metadata": {},
   "outputs": [],
   "source": [
    "X_2d = X[:,0:2]\n",
    "\n",
    "X_2d_train, X_2d_test, y_2d_train, y_2d_test = train_test_split(X_2d, y, test_size = 0.3, random_state = 42)\n",
    "\n",
    "# Создадим объект Decision Tree\n",
    "clf_gini = DecisionTreeClassifier(criterion='gini', max_depth=3, random_state=0)\n",
    "\n",
    "# Обучение модели\n",
    "clf_gini.fit(X_2d_train, y_2d_train)\n",
    "\n",
    "# Прогноз на тестовых данных\n",
    "y_pred_gini = clf_gini.predict(X_2d_test)\n",
    "\n",
    "# Напишем вспомогательную функцию, которая будет возвращать решетку для дальнейшей визуализации.\n",
    "def get_grid(data):\n",
    "    x_min, x_max = X_2d_train[:, 0].min()*0.9, X_2d_train[:, 0].max()*1.1\n",
    "    y_min, y_max = X_2d_train[:, 1].min()*0.9, X_2d_train[:, 1].max()*1.1\n",
    "    return np.meshgrid(np.arange(x_min, x_max, 0.01), np.arange(y_min, y_max, 0.01))\n",
    "\n",
    "# немного кода для отображения разделяющей поверхности\n",
    "xx, yy = get_grid(X_2d_test)\n",
    "y_pred = clf_gini.predict(np.c_[xx.ravel(), yy.ravel()]).reshape(xx.shape)\n",
    "plt.pcolormesh(xx, yy, y_pred, cmap='autumn')\n",
    "plt.scatter(X_2d_train[:, 0], X_2d_train[:, 1], \n",
    "            c=y_2d_train, s=100, cmap='autumn', \n",
    "            edgecolors='black', linewidth=1.5\n",
    ");"
   ]
  },
  {
   "cell_type": "markdown",
   "id": "f77b66fe",
   "metadata": {},
   "source": [
    "### 3.2. Дерево решений с критерием \"Информационная энтропия\""
   ]
  },
  {
   "cell_type": "code",
   "execution_count": null,
   "id": "71909c54",
   "metadata": {},
   "outputs": [],
   "source": [
    "clf_en = DecisionTreeClassifier(criterion='entropy', max_depth=3, random_state=0)\n",
    "\n",
    "# Обучение модели\n",
    "clf_en.fit(X_train, y_train)"
   ]
  },
  {
   "cell_type": "code",
   "execution_count": null,
   "id": "afb6ff39",
   "metadata": {},
   "outputs": [],
   "source": [
    "y_pred_en = clf_en.predict(X_test)"
   ]
  },
  {
   "cell_type": "code",
   "execution_count": null,
   "id": "2dfd25f8",
   "metadata": {},
   "outputs": [],
   "source": [
    "accuracy = accuracy_score(y_test, y_pred_en)*100\n",
    "print('Точность модели на тестовой выборке: ' + str(round(accuracy, 2)) + ' %.')"
   ]
  },
  {
   "cell_type": "code",
   "execution_count": null,
   "id": "d8a4a4bd",
   "metadata": {},
   "outputs": [],
   "source": [
    "# посмотрим на метрики на обучающей выборке\n",
    "y_pred_train_en = clf_en.predict(X_train)\n",
    "\n",
    "accuracy = accuracy_score(y_train, y_pred_train_en)*100\n",
    "print('Точность модели на обучающей выборке: ' + str(round(accuracy, 2)) + ' %.')"
   ]
  },
  {
   "cell_type": "markdown",
   "id": "8c8974e5",
   "metadata": {},
   "source": [
    "### Визуализируем работу алгоритма"
   ]
  },
  {
   "cell_type": "code",
   "execution_count": null,
   "id": "499295c8",
   "metadata": {},
   "outputs": [],
   "source": [
    "plt.figure(figsize=(12,8))\n",
    "\n",
    "tree.plot_tree(clf_en.fit(X_train, y_train)) "
   ]
  },
  {
   "cell_type": "code",
   "execution_count": null,
   "id": "4fc5e780",
   "metadata": {},
   "outputs": [],
   "source": [
    "X_2d = X[:,0:2]\n",
    "\n",
    "X_2d_train, X_2d_test, y_2d_train, y_2d_test = train_test_split(X_2d, y, test_size = 0.3, random_state = 42)\n",
    "\n",
    "# Создадим объект Decision Tree\n",
    "clf_en = DecisionTreeClassifier(criterion='entropy', max_depth=3, random_state=0)\n",
    "\n",
    "# Обучение модели\n",
    "clf_en.fit(X_2d_train, y_2d_train)\n",
    "\n",
    "# Прогноз на тестовых данных\n",
    "y_pred_gini = clf_en.predict(X_2d_test)\n",
    "\n",
    "# Напишем вспомогательную функцию, которая будет возвращать решетку для дальнейшей визуализации.\n",
    "def get_grid(data):\n",
    "    x_min, x_max = X_2d_train[:, 0].min()*0.9, X_2d_train[:, 0].max()*1.1\n",
    "    y_min, y_max = X_2d_train[:, 1].min()*0.9, X_2d_train[:, 1].max()*1.1\n",
    "    return np.meshgrid(np.arange(x_min, x_max, 0.01), np.arange(y_min, y_max, 0.01))\n",
    "\n",
    "# немного кода для отображения разделяющей поверхности\n",
    "xx, yy = get_grid(X_2d_test)\n",
    "y_pred = clf_en.predict(np.c_[xx.ravel(), yy.ravel()]).reshape(xx.shape)\n",
    "plt.pcolormesh(xx, yy, y_pred, cmap='autumn')\n",
    "plt.scatter(X_2d_train[:, 0], X_2d_train[:, 1], \n",
    "            c=y_2d_train, s=100, cmap='autumn', \n",
    "            edgecolors='black', linewidth=1.5\n",
    ");"
   ]
  },
  {
   "cell_type": "markdown",
   "id": "7f3421ae",
   "metadata": {},
   "source": [
    "## 4. Выведем отчет о моделях"
   ]
  },
  {
   "cell_type": "code",
   "execution_count": 2,
   "id": "5f8a3f7d",
   "metadata": {},
   "outputs": [
    {
     "ename": "NameError",
     "evalue": "name 'y_test' is not defined",
     "output_type": "error",
     "traceback": [
      "\u001b[0;31m---------------------------------------------------------------------------\u001b[0m",
      "\u001b[0;31mNameError\u001b[0m                                 Traceback (most recent call last)",
      "Cell \u001b[0;32mIn[2], line 1\u001b[0m\n\u001b[0;32m----> 1\u001b[0m \u001b[38;5;28mprint\u001b[39m(classification_report(\u001b[43my_test\u001b[49m, y_pred_en))\n",
      "\u001b[0;31mNameError\u001b[0m: name 'y_test' is not defined"
     ]
    }
   ],
   "source": [
    "print(classification_report(y_test, y_pred_en))"
   ]
  },
  {
   "cell_type": "code",
   "execution_count": 3,
   "id": "7fb139e1",
   "metadata": {},
   "outputs": [
    {
     "ename": "NameError",
     "evalue": "name 'y_test' is not defined",
     "output_type": "error",
     "traceback": [
      "\u001b[0;31m---------------------------------------------------------------------------\u001b[0m",
      "\u001b[0;31mNameError\u001b[0m                                 Traceback (most recent call last)",
      "Cell \u001b[0;32mIn[3], line 1\u001b[0m\n\u001b[0;32m----> 1\u001b[0m \u001b[38;5;28mprint\u001b[39m(classification_report(\u001b[43my_test\u001b[49m, y_pred_gini))\n",
      "\u001b[0;31mNameError\u001b[0m: name 'y_test' is not defined"
     ]
    }
   ],
   "source": [
    "print(classification_report(y_test, y_pred_gini))"
   ]
  },
  {
   "cell_type": "markdown",
   "id": "5d5a64c4",
   "metadata": {},
   "source": [
    "# 5. GridSearchCV\n",
    "\n",
    "Как и в предыдущих алгоритмах, в решающих деревьях также много гиперпараметров, которые необходимо задать до обучения модели. Для выбора значений этих параметров также можно использовать `GridSearchCV`. Рассмотрим на хрестоматийном примере Титаник. Данные предварительно очищены и подготовлены для работы моделями.\n",
    "\n",
    "- `Survived` - выжил/не выжил\n",
    "- `Age` - возраст \n",
    "- `Fare` - стоимость билета \n",
    "- `C`,`Q` - порт посадки. Если оба значения =0, то третий порт `S` \n",
    "- `Family` - наличие семьи на борту\n",
    "- `Child`, `Female` - пол (М, Ж, ребенок). Если ни `Child` ни `Female`, то `Male`\n",
    "- `Class_1`, `Class_2` - класс каюты. Если ни `Class_1` ни `Class_2`, тогда `Class_3`"
   ]
  },
  {
   "cell_type": "code",
   "execution_count": null,
   "id": "0c216302",
   "metadata": {},
   "outputs": [],
   "source": [
    "# Чтение данных\n",
    "titanic_dataframe = pd.read_pickle('data/titanic_clean.pickle')"
   ]
  },
  {
   "cell_type": "code",
   "execution_count": null,
   "id": "ee45e2f0",
   "metadata": {},
   "outputs": [],
   "source": [
    "titanic_dataframe.head()"
   ]
  },
  {
   "cell_type": "code",
   "execution_count": null,
   "id": "f1a71291",
   "metadata": {},
   "outputs": [],
   "source": [
    "titanic_dataframe.info()"
   ]
  },
  {
   "cell_type": "code",
   "execution_count": null,
   "id": "0b22d1bb",
   "metadata": {},
   "outputs": [],
   "source": [
    "titanic_dataframe.describe()"
   ]
  },
  {
   "cell_type": "code",
   "execution_count": null,
   "id": "5a1a0aa7",
   "metadata": {},
   "outputs": [],
   "source": [
    "# количество пропущенных значений\n",
    "titanic_dataframe.isna().sum()"
   ]
  },
  {
   "cell_type": "code",
   "execution_count": null,
   "id": "a9aacff1",
   "metadata": {},
   "outputs": [],
   "source": [
    "X = titanic_dataframe.drop(\"Survived\", axis=1)\n",
    "y = titanic_dataframe[\"Survived\"]\n",
    "\n",
    "X_train, X_test, y_train, y_test = train_test_split(X, y, test_size = .2, random_state = 22)"
   ]
  },
  {
   "cell_type": "markdown",
   "id": "9e469050",
   "metadata": {},
   "source": [
    "> # Задание \n",
    ">\n",
    "> При помощи GridSearchCV найти наилучшее сочетание параметров `criterion`: ('gini', 'entropy'), `min_samples_split`: (3,5,8,10), `min_samples_leaf`: (1,3,5,7), `max_depth`: (3,4,5,6,7,8). Значения для DecisionTreeClassifier `max_features`='auto', `random_state`=22"
   ]
  },
  {
   "cell_type": "code",
   "execution_count": null,
   "id": "711db9b4",
   "metadata": {},
   "outputs": [],
   "source": [
    "from sklearn import tree\n",
    "\n",
    "# получаю классификатор\n",
    "DTree_clf = tree.DecisionTreeClassifier(random_state=22)\n",
    "DTree_clf.fit(X_train, y_train)"
   ]
  },
  {
   "cell_type": "code",
   "execution_count": null,
   "id": "20a07104-e69d-4c0d-81c3-d7fe756f7525",
   "metadata": {},
   "outputs": [],
   "source": [
    "# печатаю дерево решений\n",
    "tree.plot_tree(DTree_clf)"
   ]
  },
  {
   "cell_type": "code",
   "execution_count": null,
   "id": "5e5a4fea-a1e1-4d2c-99ee-162b64970923",
   "metadata": {},
   "outputs": [],
   "source": [
    "from sklearn.model_selection import GridSearchCV\n",
    "# задаем словарь параметров для модели SVM, которые мы хотим варьироать в рамках\n",
    "# работы GridSearchCV\n",
    "\n",
    "parameters = {\n",
    "    'criterion': ['gini', 'entropy'],\n",
    "    'min_samples_split': [3, 5, 8, 10],\n",
    "    'min_samples_leaf': [1, 3, 5, 7],\n",
    "    'max_depth': [3, 4, 5, 6, 7, 8]\n",
    "}\n",
    "\n",
    "grid = GridSearchCV(DTree_clf, parameters, cv=3)\n",
    "# Fit the data to find the best combination of parameters\n",
    "grid.fit(X_train, y_train)\n",
    "\n",
    "# Print the best parameters and the best score\n",
    "print(\"Best Parameters: \", grid.best_params_)\n",
    "print(\"Best Score: \", grid.best_score_)"
   ]
  },
  {
   "cell_type": "code",
   "execution_count": null,
   "id": "4157bc11-52bc-4e2e-99bc-3aff3de4a824",
   "metadata": {},
   "outputs": [],
   "source": []
  }
 ],
 "metadata": {
  "kernelspec": {
   "display_name": "Python 3 (ipykernel)",
   "language": "python",
   "name": "python3"
  },
  "language_info": {
   "codemirror_mode": {
    "name": "ipython",
    "version": 3
   },
   "file_extension": ".py",
   "mimetype": "text/x-python",
   "name": "python",
   "nbconvert_exporter": "python",
   "pygments_lexer": "ipython3",
   "version": "3.10.12"
  }
 },
 "nbformat": 4,
 "nbformat_minor": 5
}
